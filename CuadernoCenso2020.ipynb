{
 "cells": [
  {
   "cell_type": "code",
   "execution_count": 1,
   "id": "amino-mobile",
   "metadata": {},
   "outputs": [],
   "source": [
    "import geopandas as gpd\n",
    "import pandas as pd\n",
    "from tqdm import tqdm\n",
    "import requests\n",
    "from zipfile import ZipFile \n",
    "import time\n",
    "import os\n",
    "import shutil"
   ]
  },
  {
   "cell_type": "code",
   "execution_count": 3,
   "id": "suspected-operator",
   "metadata": {},
   "outputs": [],
   "source": [
    "#Funciones de apoyo\n",
    "def download(url,dir):\n",
    "    time.sleep(5)\n",
    "    chunk_size = 1024\n",
    "    r = requests.get(url, stream = True)\n",
    "    total_size = int(r.headers['content-length'])\n",
    "    filename = url.split('/')[-1]\n",
    "    with open(dir+filename, 'wb') as f:\n",
    "        for data in tqdm(iterable = r.iter_content(chunk_size = chunk_size), total = total_size/chunk_size, unit = 'KB'):\n",
    "            f.write(data)\n",
    "            \n",
    "def extract_shapefile(states,directory,shp_dir,shape_type):\n",
    "    for i in range(32):\n",
    "        estado = states[i]\n",
    "        file = str(i+1).zfill(2)\n",
    "        zip_file = directory+estado\n",
    "        shp_file = f'conjunto_de_datos/{file}{shape_type}.shp'\n",
    "        cpg_file = f'conjunto_de_datos/{file}{shape_type}.cpg'\n",
    "        dbf_file = f'conjunto_de_datos/{file}{shape_type}.dbf'\n",
    "        prj_file = f'conjunto_de_datos/{file}{shape_type}.prj'\n",
    "        shx_file = f'conjunto_de_datos/{file}{shape_type}.shx'\n",
    "        with ZipFile(zip_file, 'r') as zip:\n",
    "            zip.extract(shp_file,shp_dir)\n",
    "            zip.extract(dbf_file,shp_dir)\n",
    "            zip.extract(prj_file,shp_dir)\n",
    "            zip.extract(shx_file,shp_dir)\n",
    "            try:\n",
    "                zip.extract(cpg_file,shp_dir)\n",
    "            except:\n",
    "                with open(shp_dir+cpg_file, 'w') as out_file:\n",
    "                    out_file.write(\"ISO 88591\")"
   ]
  },
  {
   "cell_type": "code",
   "execution_count": 4,
   "id": "accessory-radio",
   "metadata": {},
   "outputs": [],
   "source": [
    "# Estructura de Directorios\n",
    "os.makedirs(\"./inegi/ccpvagebmza/csv/conjunto_de_datos\") \n",
    "os.makedirs(\"./inegi/mgccpv/shp/m/conjunto_de_datos\") \n",
    "os.makedirs(\"./inegi/mgccpv/gpkg/\")"
   ]
  },
  {
   "cell_type": "code",
   "execution_count": 6,
   "id": "native-wireless",
   "metadata": {},
   "outputs": [
    {
     "name": "stderr",
     "output_type": "stream",
     "text": [
      "2558KB [00:00, 3520.41KB/s]                                     \n",
      " 97%|█████████▋| 8370/8624.53125 [00:02<00:00, 3904.22KB/s]/home/abxda/anaconda3/envs/cpv2020/lib/python3.8/site-packages/tqdm/std.py:532: TqdmWarning: clamping frac to range [0, 1]\n",
      "  full_bar = Bar(frac,\n",
      "100%|██████████| 8625/8624.53125 [00:02<00:00, 3743.11KB/s]\n",
      "100%|██████████| 2297/2296.5458984375 [00:00<00:00, 3353.83KB/s]\n",
      "1800KB [00:00, 3398.77KB/s]                                     \n",
      "100%|██████████| 7879/7878.5419921875 [00:02<00:00, 3691.10KB/s]\n",
      "2048KB [00:00, 3429.94KB/s]                                    \n",
      "100%|██████████| 7783/7782.9921875 [00:01<00:00, 4768.08KB/s]\n",
      "9540KB [00:02, 4543.58KB/s]                                     \n",
      "100%|██████████| 12743/12742.533203125 [00:03<00:00, 3791.74KB/s]\n",
      "100%|██████████| 4097/4096.9013671875 [00:00<00:00, 4435.97KB/s]\n",
      "10006KB [00:02, 4799.98KB/s]                                    \n",
      "7294KB [00:01, 3758.16KB/s]                                    \n",
      "5411KB [00:01, 4774.98KB/s]                                     \n",
      "100%|██████████| 15993/15992.505859375 [00:04<00:00, 3663.36KB/s]\n",
      "24659KB [00:06, 3816.12KB/s]                                      \n",
      "100%|██████████| 9647/9646.85546875 [00:02<00:00, 4803.58KB/s]\n",
      "4182KB [00:00, 4620.33KB/s]                                     \n",
      "100%|██████████| 2821/2820.85546875 [00:00<00:00, 3497.88KB/s]\n",
      "11505KB [00:02, 4572.60KB/s]                                      \n",
      "100%|██████████| 6919/6918.9892578125 [00:01<00:00, 4702.78KB/s]\n",
      "100%|██████████| 10955/10954.771484375 [00:03<00:00, 3645.07KB/s]\n",
      "100%|██████████| 4411/4410.7451171875 [00:01<00:00, 4404.16KB/s]\n",
      "3951KB [00:00, 4429.64KB/s]                                     \n",
      "100%|██████████| 5201/5200.7412109375 [00:01<00:00, 4477.83KB/s]\n",
      "6616KB [00:01, 4522.25KB/s]                                    \n",
      "8401KB [00:02, 3877.20KB/s]                                     \n",
      "2818KB [00:00, 4299.14KB/s]                                   \n",
      "8965KB [00:02, 3858.70KB/s]                                   \n",
      "2628KB [00:00, 3349.46KB/s]                                     \n",
      "14232KB [00:03, 3790.77KB/s]                                    \n",
      "5698KB [00:01, 4670.86KB/s]                                  \n",
      "3695KB [00:01, 3638.20KB/s]                                   \n"
     ]
    },
    {
     "name": "stdout",
     "output_type": "stream",
     "text": [
      "01_aguascalientes.zip\n"
     ]
    },
    {
     "name": "stderr",
     "output_type": "stream",
     "text": [
      "35903KB [00:09, 3630.58KB/s]                                      \n"
     ]
    },
    {
     "name": "stdout",
     "output_type": "stream",
     "text": [
      "02_bajacalifornia.zip\n"
     ]
    },
    {
     "name": "stderr",
     "output_type": "stream",
     "text": [
      "100%|██████████| 66733/66732.7880859375 [00:17<00:00, 3821.21KB/s]\n"
     ]
    },
    {
     "name": "stdout",
     "output_type": "stream",
     "text": [
      "03_bajacaliforniasur.zip\n"
     ]
    },
    {
     "name": "stderr",
     "output_type": "stream",
     "text": [
      "32043KB [00:07, 4407.48KB/s]                                     \n"
     ]
    },
    {
     "name": "stdout",
     "output_type": "stream",
     "text": [
      "04_campeche.zip\n"
     ]
    },
    {
     "name": "stderr",
     "output_type": "stream",
     "text": [
      "100%|██████████| 32889/32888.828125 [00:07<00:00, 4581.91KB/s]\n"
     ]
    },
    {
     "name": "stdout",
     "output_type": "stream",
     "text": [
      "05_coahuiladezaragoza.zip\n"
     ]
    },
    {
     "name": "stderr",
     "output_type": "stream",
     "text": [
      "100%|██████████| 65732/65731.93359375 [00:14<00:00, 4584.22KB/s]\n"
     ]
    },
    {
     "name": "stdout",
     "output_type": "stream",
     "text": [
      "06_colima.zip\n"
     ]
    },
    {
     "name": "stderr",
     "output_type": "stream",
     "text": [
      "100%|██████████| 28298/28297.5615234375 [00:07<00:00, 3817.40KB/s]\n"
     ]
    },
    {
     "name": "stdout",
     "output_type": "stream",
     "text": [
      "07_chiapas.zip\n"
     ]
    },
    {
     "name": "stderr",
     "output_type": "stream",
     "text": [
      "100%|██████████| 106237/106236.5068359375 [00:27<00:00, 3819.62KB/s]\n"
     ]
    },
    {
     "name": "stdout",
     "output_type": "stream",
     "text": [
      "08_chihuahua.zip\n"
     ]
    },
    {
     "name": "stderr",
     "output_type": "stream",
     "text": [
      "100%|██████████| 103312/103311.6591796875 [00:22<00:00, 4572.40KB/s]\n"
     ]
    },
    {
     "name": "stdout",
     "output_type": "stream",
     "text": [
      "09_ciudaddemexico.zip\n"
     ]
    },
    {
     "name": "stderr",
     "output_type": "stream",
     "text": [
      "81258KB [00:23, 3517.16KB/s]                                      \n"
     ]
    },
    {
     "name": "stdout",
     "output_type": "stream",
     "text": [
      "10_durango.zip\n"
     ]
    },
    {
     "name": "stderr",
     "output_type": "stream",
     "text": [
      "60160KB [00:13, 4332.53KB/s]                                     \n"
     ]
    },
    {
     "name": "stdout",
     "output_type": "stream",
     "text": [
      "11_guanajuato.zip\n"
     ]
    },
    {
     "name": "stderr",
     "output_type": "stream",
     "text": [
      "100%|██████████| 130036/130035.5380859375 [00:27<00:00, 4810.46KB/s]\n"
     ]
    },
    {
     "name": "stdout",
     "output_type": "stream",
     "text": [
      "12_guerrero.zip\n"
     ]
    },
    {
     "name": "stderr",
     "output_type": "stream",
     "text": [
      "122744KB [00:32, 3755.82KB/s]                                       \n"
     ]
    },
    {
     "name": "stdout",
     "output_type": "stream",
     "text": [
      "13_hidalgo.zip\n"
     ]
    },
    {
     "name": "stderr",
     "output_type": "stream",
     "text": [
      "100%|██████████| 107392/107391.822265625 [00:29<00:00, 3655.76KB/s]\n"
     ]
    },
    {
     "name": "stdout",
     "output_type": "stream",
     "text": [
      "14_jalisco.zip\n"
     ]
    },
    {
     "name": "stderr",
     "output_type": "stream",
     "text": [
      "100%|██████████| 139284/139283.65625 [00:29<00:00, 4801.61KB/s]\n"
     ]
    },
    {
     "name": "stdout",
     "output_type": "stream",
     "text": [
      "15_mexico.zip\n"
     ]
    },
    {
     "name": "stderr",
     "output_type": "stream",
     "text": [
      "100%|██████████| 221411/221410.6123046875 [00:45<00:00, 4862.94KB/s]\n"
     ]
    },
    {
     "name": "stdout",
     "output_type": "stream",
     "text": [
      "16_michoacandeocampo.zip\n"
     ]
    },
    {
     "name": "stderr",
     "output_type": "stream",
     "text": [
      "119353KB [00:33, 3602.36KB/s]                                       \n"
     ]
    },
    {
     "name": "stdout",
     "output_type": "stream",
     "text": [
      "17_morelos.zip\n"
     ]
    },
    {
     "name": "stderr",
     "output_type": "stream",
     "text": [
      "61927KB [00:19, 3106.00KB/s]                                     \n"
     ]
    },
    {
     "name": "stdout",
     "output_type": "stream",
     "text": [
      "18_nayarit.zip\n"
     ]
    },
    {
     "name": "stderr",
     "output_type": "stream",
     "text": [
      "100%|██████████| 45301/45300.8037109375 [00:10<00:00, 4310.89KB/s]\n"
     ]
    },
    {
     "name": "stdout",
     "output_type": "stream",
     "text": [
      "19_nuevoleon.zip\n"
     ]
    },
    {
     "name": "stderr",
     "output_type": "stream",
     "text": [
      "89256KB [00:19, 4535.18KB/s]                                      \n"
     ]
    },
    {
     "name": "stdout",
     "output_type": "stream",
     "text": [
      "20_oaxaca.zip\n"
     ]
    },
    {
     "name": "stderr",
     "output_type": "stream",
     "text": [
      "100%|██████████| 170480/170479.783203125 [00:44<00:00, 3850.11KB/s]\n"
     ]
    },
    {
     "name": "stdout",
     "output_type": "stream",
     "text": [
      "21_puebla.zip\n"
     ]
    },
    {
     "name": "stderr",
     "output_type": "stream",
     "text": [
      "100%|██████████| 148512/148511.5595703125 [00:37<00:00, 3919.34KB/s]\n"
     ]
    },
    {
     "name": "stdout",
     "output_type": "stream",
     "text": [
      "22_queretaro.zip\n"
     ]
    },
    {
     "name": "stderr",
     "output_type": "stream",
     "text": [
      "64303KB [00:15, 4272.77KB/s]                                    \n"
     ]
    },
    {
     "name": "stdout",
     "output_type": "stream",
     "text": [
      "23_quintanaroo.zip\n"
     ]
    },
    {
     "name": "stderr",
     "output_type": "stream",
     "text": [
      "100%|██████████| 36973/36972.77734375 [00:07<00:00, 4690.30KB/s]\n"
     ]
    },
    {
     "name": "stdout",
     "output_type": "stream",
     "text": [
      "24_sanluispotosi.zip\n"
     ]
    },
    {
     "name": "stderr",
     "output_type": "stream",
     "text": [
      "100%|██████████| 89046/89045.7939453125 [00:20<00:00, 4302.12KB/s]\n"
     ]
    },
    {
     "name": "stdout",
     "output_type": "stream",
     "text": [
      "25_sinaloa.zip\n"
     ]
    },
    {
     "name": "stderr",
     "output_type": "stream",
     "text": [
      "70221KB [00:15, 4676.56KB/s]                                     \n"
     ]
    },
    {
     "name": "stdout",
     "output_type": "stream",
     "text": [
      "26_sonora.zip\n"
     ]
    },
    {
     "name": "stderr",
     "output_type": "stream",
     "text": [
      "100%|██████████| 72258/72257.6943359375 [00:16<00:00, 4502.12KB/s]\n"
     ]
    },
    {
     "name": "stdout",
     "output_type": "stream",
     "text": [
      "27_tabasco.zip\n"
     ]
    },
    {
     "name": "stderr",
     "output_type": "stream",
     "text": [
      "100%|██████████| 49727/49726.9833984375 [00:13<00:00, 3587.08KB/s]\n"
     ]
    },
    {
     "name": "stdout",
     "output_type": "stream",
     "text": [
      "28_tamaulipas.zip\n"
     ]
    },
    {
     "name": "stderr",
     "output_type": "stream",
     "text": [
      "78114KB [00:16, 4876.94KB/s]                                     \n"
     ]
    },
    {
     "name": "stdout",
     "output_type": "stream",
     "text": [
      "29_tlaxcala.zip\n"
     ]
    },
    {
     "name": "stderr",
     "output_type": "stream",
     "text": [
      "52192KB [00:13, 3865.32KB/s]                                     \n"
     ]
    },
    {
     "name": "stdout",
     "output_type": "stream",
     "text": [
      "30_veracruzignaciodelallave.zip\n"
     ]
    },
    {
     "name": "stderr",
     "output_type": "stream",
     "text": [
      "179524KB [00:38, 4608.84KB/s]                                      \n"
     ]
    },
    {
     "name": "stdout",
     "output_type": "stream",
     "text": [
      "31_yucatan.zip\n"
     ]
    },
    {
     "name": "stderr",
     "output_type": "stream",
     "text": [
      "100%|██████████| 49385/49384.92578125 [00:13<00:00, 3618.82KB/s]\n"
     ]
    },
    {
     "name": "stdout",
     "output_type": "stream",
     "text": [
      "32_zacatecas.zip\n"
     ]
    },
    {
     "name": "stderr",
     "output_type": "stream",
     "text": [
      "72684KB [00:19, 3729.00KB/s]                                    \n"
     ]
    }
   ],
   "source": [
    "directory= \"./inegi/ccpvagebmza/\"\n",
    "for i in range(32):\n",
    "    estado = str(i+1).zfill(2)\n",
    "    ageb_mza = f'https://www.inegi.org.mx/contenidos/programas/ccpv/2020/datosabiertos/ageb_manzana/ageb_mza_urbana_{estado}_cpv2020_csv.zip'\n",
    "    download(ageb_mza,directory)\n",
    "\n",
    "directory= \"./inegi/mgccpv/\"\n",
    "url_mgccpv = \"https://www.inegi.org.mx/contenidos/productos/prod_serv/contenidos/espanol/bvinegi/productos/geografia/marcogeo/889463807469/\"\n",
    "states = [\"01_aguascalientes.zip\",\"02_bajacalifornia.zip\",\"03_bajacaliforniasur.zip\",\"04_campeche.zip\",\"05_coahuiladezaragoza.zip\",\"06_colima.zip\",\"07_chiapas.zip\",\"08_chihuahua.zip\",\"09_ciudaddemexico.zip\",\"10_durango.zip\",\"11_guanajuato.zip\",\"12_guerrero.zip\",\"13_hidalgo.zip\",\"14_jalisco.zip\",\"15_mexico.zip\",\"16_michoacandeocampo.zip\",\"17_morelos.zip\",\"18_nayarit.zip\",\"19_nuevoleon.zip\",\"20_oaxaca.zip\",\"21_puebla.zip\",\"22_queretaro.zip\",\"23_quintanaroo.zip\",\"24_sanluispotosi.zip\",\"25_sinaloa.zip\",\"26_sonora.zip\",\"27_tabasco.zip\",\"28_tamaulipas.zip\",\"29_tlaxcala.zip\",\"30_veracruzignaciodelallave.zip\",\"31_yucatan.zip\",\"32_zacatecas.zip\"]\n",
    "for state in states:\n",
    "    print(state)\n",
    "    state_file = url_mgccpv+state\n",
    "    download(state_file,directory)"
   ]
  },
  {
   "cell_type": "code",
   "execution_count": 7,
   "id": "small-inventory",
   "metadata": {},
   "outputs": [],
   "source": [
    "#Extracción de Datos\n",
    "# Variables e indicadores del Censo de Población 2020\n",
    "directory= \"./inegi/ccpvagebmza/\"\n",
    "csv_dir = directory+\"csv/\"\n",
    "for i in range(32):\n",
    "    estado = str(i+1).zfill(2)\n",
    "    zip_file = directory+f'ageb_mza_urbana_{estado}_cpv2020_csv.zip'\n",
    "    csv_file = f'conjunto_de_datos/conjunto_de_datos_ageb_urbana_{estado}_cpv2020.csv'\n",
    "    with ZipFile(zip_file, 'r') as zip:\n",
    "        zip.extract(csv_file,csv_dir)\n",
    "\n",
    "# Manzanas\n",
    "shape_type = \"m\"\n",
    "directory= \"./inegi/mgccpv/\"\n",
    "shp_dir = directory+\"shp/m/\"\n",
    "extract_shapefile(states,directory,shp_dir,shape_type)\n",
    "\n",
    "# Caserío disperso\n",
    "shape_type = \"cd\"\n",
    "directory= \"./inegi/mgccpv/\"\n",
    "shp_dir = directory+\"shp/m/\"\n",
    "extract_shapefile(states,directory,shp_dir,shape_type)\n",
    "\n",
    "# Polígono externo de manzana\n",
    "shape_type = \"pem\"\n",
    "directory= \"./inegi/mgccpv/\"\n",
    "shp_dir = directory+\"shp/m/\"\n",
    "extract_shapefile(states,directory,shp_dir,shape_type)"
   ]
  },
  {
   "cell_type": "code",
   "execution_count": 8,
   "id": "bibliographic-processing",
   "metadata": {},
   "outputs": [
    {
     "name": "stdout",
     "output_type": "stream",
     "text": [
      "procesando estado: 01\n",
      "guardando datos del estado: 01\n",
      "procesando estado: 02\n"
     ]
    },
    {
     "name": "stderr",
     "output_type": "stream",
     "text": [
      "/home/abxda/anaconda3/envs/cpv2020/lib/python3.8/site-packages/IPython/core/interactiveshell.py:3155: DtypeWarning: Columns (6) have mixed types.Specify dtype option on import or set low_memory=False.\n",
      "  has_raised = await self.run_ast_nodes(code_ast.body, cell_name,\n"
     ]
    },
    {
     "name": "stdout",
     "output_type": "stream",
     "text": [
      "guardando datos del estado: 02\n",
      "procesando estado: 03\n",
      "guardando datos del estado: 03\n",
      "procesando estado: 04\n",
      "guardando datos del estado: 04\n",
      "procesando estado: 05\n",
      "guardando datos del estado: 05\n",
      "procesando estado: 06\n",
      "guardando datos del estado: 06\n",
      "procesando estado: 07\n",
      "guardando datos del estado: 07\n",
      "procesando estado: 08\n",
      "guardando datos del estado: 08\n",
      "procesando estado: 09\n",
      "guardando datos del estado: 09\n",
      "procesando estado: 10\n",
      "guardando datos del estado: 10\n",
      "procesando estado: 11\n",
      "guardando datos del estado: 11\n",
      "procesando estado: 12\n",
      "guardando datos del estado: 12\n",
      "procesando estado: 13\n",
      "guardando datos del estado: 13\n",
      "procesando estado: 14\n",
      "guardando datos del estado: 14\n",
      "procesando estado: 15\n",
      "guardando datos del estado: 15\n",
      "procesando estado: 16\n",
      "guardando datos del estado: 16\n",
      "procesando estado: 17\n",
      "guardando datos del estado: 17\n",
      "procesando estado: 18\n",
      "guardando datos del estado: 18\n",
      "procesando estado: 19\n",
      "guardando datos del estado: 19\n",
      "procesando estado: 20\n",
      "guardando datos del estado: 20\n",
      "procesando estado: 21\n",
      "guardando datos del estado: 21\n",
      "procesando estado: 22\n",
      "guardando datos del estado: 22\n",
      "procesando estado: 23\n",
      "guardando datos del estado: 23\n",
      "procesando estado: 24\n",
      "guardando datos del estado: 24\n",
      "procesando estado: 25\n",
      "guardando datos del estado: 25\n",
      "procesando estado: 26\n",
      "guardando datos del estado: 26\n",
      "procesando estado: 27\n",
      "guardando datos del estado: 27\n",
      "procesando estado: 28\n",
      "guardando datos del estado: 28\n",
      "procesando estado: 29\n",
      "guardando datos del estado: 29\n",
      "procesando estado: 30\n",
      "guardando datos del estado: 30\n",
      "procesando estado: 31\n",
      "guardando datos del estado: 31\n",
      "procesando estado: 32\n",
      "guardando datos del estado: 32\n"
     ]
    }
   ],
   "source": [
    "#Union de Datos\n",
    "for i in range(32):\n",
    "    estado = str(i+1).zfill(2)\n",
    "    print(\"procesando estado: \"+str(estado))\n",
    "    gpdf = gpd.read_file(f\"./inegi/mgccpv/shp/m/conjunto_de_datos/{estado}m.shp\")\n",
    "    cddf = gpd.read_file(f\"./inegi/mgccpv/shp/m/conjunto_de_datos/{estado}cd.shp\")\n",
    "    pemdf = gpd.read_file(f\"./inegi/mgccpv/shp/m/conjunto_de_datos/{estado}pem.shp\")\n",
    "    df = pd.read_csv(f\"./inegi/ccpvagebmza/csv/conjunto_de_datos/conjunto_de_datos_ageb_urbana_{estado}_cpv2020.csv\",na_values=['N/A','N/D','*'])\n",
    "    df['CVEGEO'] = df.apply(lambda row: str(row['ENTIDAD']).zfill(2) + str(row['MUN']).zfill(3)+ str(row['LOC']).zfill(4)+ str(row['AGEB']).zfill(4)+ str(row['MZA']).zfill(3), axis=1)\n",
    "    df_geo_censo = pd.merge(df, gpdf, how = 'left').drop([\"CVE_ENT\", \"CVE_MUN\", \"CVE_LOC\", \"CVE_AGEB\", \"CVE_MZA\"], axis = 1)\n",
    "    df_geo_censo = df_geo_censo.drop(df[df.MZA == 0].index)\n",
    "    df_geo_censo = gpd.GeoDataFrame(df_geo_censo, geometry=\"geometry\")\n",
    "    #df_geo_censo = df_geo_censo.to_crs(\"EPSG:4326\")\n",
    "    df_full = df_geo_censo[df_geo_censo['geometry'].notnull()]\n",
    "    df1 = df_geo_censo[df_geo_censo['geometry'].isnull()]\n",
    "    df1 = df1.drop([\"TIPOMZA\",\"AMBITO\",\"geometry\"], axis = 1)\n",
    "    df_geo_dif = pd.merge(df1, cddf, how = 'left').drop([\"CVE_ENT\", \"CVE_MUN\", \"CVE_LOC\", \"CVE_AGEB\", \"CVE_MZA\"], axis = 1)\n",
    "    pemdf = pemdf.rename(columns={'geometry': 'geometry_pem'})\n",
    "    pemdf = pemdf.drop([\"CVE_ENT\", \"CVE_MUN\", \"CVE_LOC\", \"CVE_AGEB\", \"CVE_MZA\"], axis = 1)\n",
    "    df_geo_dif = pd.merge(df_geo_dif, pemdf, how = 'left')\n",
    "    df_geo_dif['geometry'] = df_geo_dif.apply(lambda row : row['geometry_pem'] if row['geometry_pem'] != None else row['geometry'], axis = 1)\n",
    "    df_geo_dif =  df_geo_dif.drop([\"geometry_pem\"], axis = 1)\n",
    "    final_shape = pd.concat([df_full,df_geo_dif],ignore_index=True)\n",
    "    final_shape[\"AGEB\"] = final_shape.AGEB.apply(str)\n",
    "    print(\"guardando datos del estado: \"+str(estado))\n",
    "    final_shape.to_file(f\"./inegi/mgccpv/gpkg/cpv2020_{estado}.gpkg\", layer='cpv2020', driver=\"GPKG\")"
   ]
  },
  {
   "cell_type": "code",
   "execution_count": null,
   "id": "pressing-state",
   "metadata": {},
   "outputs": [],
   "source": []
  }
 ],
 "metadata": {
  "kernelspec": {
   "display_name": "Python 3",
   "language": "python",
   "name": "python3"
  },
  "language_info": {
   "codemirror_mode": {
    "name": "ipython",
    "version": 3
   },
   "file_extension": ".py",
   "mimetype": "text/x-python",
   "name": "python",
   "nbconvert_exporter": "python",
   "pygments_lexer": "ipython3",
   "version": "3.8.6"
  }
 },
 "nbformat": 4,
 "nbformat_minor": 5
}
